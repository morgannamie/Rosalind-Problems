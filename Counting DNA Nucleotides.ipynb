{
 "cells": [
  {
   "cell_type": "markdown",
   "id": "efaef5e9",
   "metadata": {},
   "source": [
    "Problem\n",
    "\n",
    "A string is simply an ordered collection of symbols selected from some alphabet and formed into a word; the length of a string is the number of symbols that it contains.\n",
    "\n",
    "An example of a length 21 DNA string (whose alphabet contains the symbols 'A', 'C', 'G', and 'T') is \"ATGCTTCAGAAAGGTCTTACG.\"\n",
    "\n",
    "Given: A DNA string s of length at most 1000 nt.\n",
    "\n",
    "Return: Four integers (separated by spaces) counting the respective number of times that the symbols 'A', 'C', 'G', and 'T' occur in s."
   ]
  },
  {
   "cell_type": "code",
   "execution_count": 18,
   "id": "e9890322",
   "metadata": {},
   "outputs": [],
   "source": [
    "dna_string = \"AGCTTTTCATTCTGACTGCAACGGGCAATATGTCTCTGTGTGGATTAAAAAAAGAGTGTCTGATAGCAGC\""
   ]
  },
  {
   "cell_type": "code",
   "execution_count": 11,
   "id": "12be7851",
   "metadata": {},
   "outputs": [
    {
     "name": "stdout",
     "output_type": "stream",
     "text": [
      "20 12 17 21\n"
     ]
    }
   ],
   "source": [
    "#method 1\n",
    "A = dna_string.count(\"A\")  \n",
    "C = dna_string.count(\"C\")\n",
    "G = dna_string.count(\"G\")\n",
    "T = dna_string.count(\"T\")\n",
    "print(A, C, G, T)"
   ]
  },
  {
   "cell_type": "code",
   "execution_count": 25,
   "id": "3f15b7c1",
   "metadata": {},
   "outputs": [],
   "source": [
    "#method 2\n",
    "def count_bases(dna_sample):\n",
    "    A = 0\n",
    "    C = 0\n",
    "    G = 0\n",
    "    T = 0\n",
    "    for base in dna_sample:\n",
    "        if base == 'A':\n",
    "            A += 1\n",
    "        if base == 'C':\n",
    "            C += 1 \n",
    "        if base == 'G':\n",
    "            G +=1 \n",
    "        if base == 'T':\n",
    "            T += 1\n",
    "    print(A, C, G, T)"
   ]
  },
  {
   "cell_type": "code",
   "execution_count": null,
   "id": "91509334",
   "metadata": {},
   "outputs": [],
   "source": []
  }
 ],
 "metadata": {
  "kernelspec": {
   "display_name": "Python 3 (ipykernel)",
   "language": "python",
   "name": "python3"
  },
  "language_info": {
   "codemirror_mode": {
    "name": "ipython",
    "version": 3
   },
   "file_extension": ".py",
   "mimetype": "text/x-python",
   "name": "python",
   "nbconvert_exporter": "python",
   "pygments_lexer": "ipython3",
   "version": "3.9.12"
  }
 },
 "nbformat": 4,
 "nbformat_minor": 5
}
