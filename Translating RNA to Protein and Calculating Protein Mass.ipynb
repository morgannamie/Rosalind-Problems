{
 "cells": [
  {
   "cell_type": "markdown",
   "id": "eb2f2e82",
   "metadata": {},
   "source": [
    "Problem\n",
    "\n",
    "The 20 commonly occurring amino acids are abbreviated by using 20 letters from the English alphabet (all letters except for B, J, O, U, X, and Z). Protein strings are constructed from these 20 symbols. Henceforth, the term genetic string will incorporate protein strings along with DNA strings and RNA strings.\n",
    "\n",
    "The RNA codon table dictates the details regarding the encoding of specific codons into the amino acid alphabet.\n",
    "\n",
    "Given: An RNA string s corresponding to a strand of mRNA (of length at most 10 kbp).\n",
    "\n",
    "Return: The protein string encoded by s."
   ]
  },
  {
   "cell_type": "code",
   "execution_count": 35,
   "id": "f97096aa",
   "metadata": {},
   "outputs": [
    {
     "name": "stdout",
     "output_type": "stream",
     "text": [
      "MAMAAQTEINSTRING\n"
     ]
    }
   ],
   "source": [
    "from Bio import Seq\n",
    "rna_string = 'AUGGCCAUGGCGGCCCAAACUGAGAUCAAUAGUACCCGUAUUAACGGGUGA'\n",
    "protein_string = Seq.translate(rna_string)\n",
    "protein = protein_string[:-1]\n",
    "print(protein)"
   ]
  },
  {
   "cell_type": "markdown",
   "id": "42f1fb38",
   "metadata": {},
   "source": [
    "Calculate Mass of Protein"
   ]
  },
  {
   "cell_type": "code",
   "execution_count": 36,
   "id": "60baaeee",
   "metadata": {},
   "outputs": [
    {
     "name": "stdout",
     "output_type": "stream",
     "text": [
      "1707.9267\n"
     ]
    }
   ],
   "source": [
    "#method 1\n",
    "protein_weight = 0\n",
    "from Bio.SeqUtils import molecular_weight\n",
    "protein_weight = molecular_weight(protein, seq_type='protein')\n",
    "print(protein_weight)"
   ]
  },
  {
   "cell_type": "code",
   "execution_count": 42,
   "id": "5f150779",
   "metadata": {},
   "outputs": [],
   "source": [
    "mol_mass = {\n",
    "    \"A\": 71.03711,\n",
    "    \"C\": 103.00919,\n",
    "    \"D\": 115.02694,\n",
    "    \"E\": 129.04259,\n",
    "    \"F\": 147.06841,\n",
    "    \"G\": 57.02146,\n",
    "    \"H\": 137.05891,\n",
    "    \"I\": 113.08406,\n",
    "    \"K\": 128.09496,\n",
    "    \"L\": 113.08406,\n",
    "    \"M\": 131.04049,\n",
    "    \"N\": 114.04293,\n",
    "    \"P\": 97.05276,\n",
    "    \"Q\": 128.05858,\n",
    "    \"R\": 156.10111,\n",
    "    \"S\": 87.03203,\n",
    "    \"T\": 101.04768,\n",
    "    \"V\": 99.06841,\n",
    "    \"W\": 186.07931,\n",
    "    \"Y\": 163.06333\n",
    "}"
   ]
  },
  {
   "cell_type": "code",
   "execution_count": 47,
   "id": "bd0c8b58",
   "metadata": {},
   "outputs": [
    {
     "name": "stdout",
     "output_type": "stream",
     "text": [
      "1688.79742\n"
     ]
    }
   ],
   "source": [
    "#method 2\n",
    "molecular_weight = 0\n",
    "for amino_acid in protein:\n",
    "    molecular_weight += mol_mass[amino_acid]\n",
    "print(molecular_weight)"
   ]
  },
  {
   "cell_type": "markdown",
   "id": "9120ec2a",
   "metadata": {},
   "source": [
    "Variations in answers are likely due to rounding differences in mass of each amino acid "
   ]
  }
 ],
 "metadata": {
  "kernelspec": {
   "display_name": "Python 3 (ipykernel)",
   "language": "python",
   "name": "python3"
  },
  "language_info": {
   "codemirror_mode": {
    "name": "ipython",
    "version": 3
   },
   "file_extension": ".py",
   "mimetype": "text/x-python",
   "name": "python",
   "nbconvert_exporter": "python",
   "pygments_lexer": "ipython3",
   "version": "3.9.12"
  }
 },
 "nbformat": 4,
 "nbformat_minor": 5
}
