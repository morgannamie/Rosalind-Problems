{
 "cells": [
  {
   "cell_type": "markdown",
   "id": "e7bfdb97",
   "metadata": {},
   "source": [
    "Problem\n",
    "\n",
    "An RNA string is a string formed from the alphabet containing 'A', 'C', 'G', and 'U'.\n",
    "\n",
    "Given a DNA string t corresponding to a coding strand, its transcribed RNA string u\n",
    "is formed by replacing all occurrences of 'T' in t with 'U' in u.\n",
    "\n",
    "Given: A DNA string t having length at most 1000 nt.\n",
    "\n",
    "Return: The transcribed RNA string of t."
   ]
  },
  {
   "cell_type": "code",
   "execution_count": 13,
   "id": "08977e8f",
   "metadata": {},
   "outputs": [],
   "source": [
    "dna_string = \"GATGGAACTTGACTACGTAAATT\""
   ]
  },
  {
   "cell_type": "code",
   "execution_count": 14,
   "id": "164b9836",
   "metadata": {},
   "outputs": [
    {
     "name": "stdout",
     "output_type": "stream",
     "text": [
      "GAUGGAACUUGACUACGUAAAUU\n"
     ]
    }
   ],
   "source": [
    "#method 1\n",
    "rna_string = dna_string.replace(\"T\", \"U\")\n",
    "print(rna_string)"
   ]
  },
  {
   "cell_type": "code",
   "execution_count": 11,
   "id": "ec64f2d7",
   "metadata": {},
   "outputs": [],
   "source": [
    "#method 2\n",
    "def transcribe_dna(dna_sample):\n",
    "    rna_sample = \"\"\n",
    "    for base in dna_sample:\n",
    "        if base == \"T\":\n",
    "            rna_sample += \"U\"\n",
    "        else:\n",
    "            rna_sample += base\n",
    "    print(rna_sample)"
   ]
  },
  {
   "cell_type": "code",
   "execution_count": 15,
   "id": "24b918b7",
   "metadata": {},
   "outputs": [
    {
     "name": "stdout",
     "output_type": "stream",
     "text": [
      "GAUGGAACUUGACUACGUAAAUU\n"
     ]
    }
   ],
   "source": [
    "transcribe_dna(dna_string)"
   ]
  }
 ],
 "metadata": {
  "kernelspec": {
   "display_name": "Python 3 (ipykernel)",
   "language": "python",
   "name": "python3"
  },
  "language_info": {
   "codemirror_mode": {
    "name": "ipython",
    "version": 3
   },
   "file_extension": ".py",
   "mimetype": "text/x-python",
   "name": "python",
   "nbconvert_exporter": "python",
   "pygments_lexer": "ipython3",
   "version": "3.9.12"
  }
 },
 "nbformat": 4,
 "nbformat_minor": 5
}
