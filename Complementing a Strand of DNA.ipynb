{
 "cells": [
  {
   "cell_type": "markdown",
   "id": "4a84d53d",
   "metadata": {},
   "source": [
    "Problem\n",
    "\n",
    "In DNA strings, symbols 'A' and 'T' are complements of each other, as are 'C' and 'G'.\n",
    "\n",
    "The reverse complement of a DNA string s is the string sc formed by reversing the symbols of s, then taking the complement of each symbol (e.g., the reverse complement of \"GTCA\" is \"TGAC\").\n",
    "\n",
    "Given: A DNA string s of length at most 1000 bp.\n",
    "\n",
    "Return: The reverse complement sc of s."
   ]
  },
  {
   "cell_type": "code",
   "execution_count": 9,
   "id": "7822a6cc",
   "metadata": {},
   "outputs": [],
   "source": [
    "dna_string = \"AAAACCCGGT\""
   ]
  },
  {
   "cell_type": "code",
   "execution_count": 13,
   "id": "dd6fe8b6",
   "metadata": {},
   "outputs": [
    {
     "name": "stdout",
     "output_type": "stream",
     "text": [
      "ACCGGGTTTT\n"
     ]
    }
   ],
   "source": [
    "#method 1\n",
    "from Bio import Seq\n",
    "print(Seq.reverse_complement(dna_string))"
   ]
  },
  {
   "cell_type": "code",
   "execution_count": 14,
   "id": "27963131",
   "metadata": {},
   "outputs": [],
   "source": [
    "#method 2\n",
    "def reverse_compliment(dna):\n",
    "    reverse_compliment = \"\"\n",
    "    for base in dna:\n",
    "        if base == \"A\":\n",
    "            reverse_compliment += \"T\"\n",
    "        if base == \"C\":\n",
    "            reverse_compliment += \"G\"\n",
    "        if base == \"G\":\n",
    "            reverse_compliment += \"C\"\n",
    "        if base == \"T\":\n",
    "            reverse_compliment += \"A\"\n",
    "    print(reverse_compliment[::-1])"
   ]
  },
  {
   "cell_type": "code",
   "execution_count": 15,
   "id": "85ea99df",
   "metadata": {},
   "outputs": [
    {
     "name": "stdout",
     "output_type": "stream",
     "text": [
      "ACCGGGTTTT\n"
     ]
    }
   ],
   "source": [
    "reverse_compliment(dna_string)"
   ]
  }
 ],
 "metadata": {
  "kernelspec": {
   "display_name": "Python 3 (ipykernel)",
   "language": "python",
   "name": "python3"
  },
  "language_info": {
   "codemirror_mode": {
    "name": "ipython",
    "version": 3
   },
   "file_extension": ".py",
   "mimetype": "text/x-python",
   "name": "python",
   "nbconvert_exporter": "python",
   "pygments_lexer": "ipython3",
   "version": "3.9.12"
  }
 },
 "nbformat": 4,
 "nbformat_minor": 5
}
